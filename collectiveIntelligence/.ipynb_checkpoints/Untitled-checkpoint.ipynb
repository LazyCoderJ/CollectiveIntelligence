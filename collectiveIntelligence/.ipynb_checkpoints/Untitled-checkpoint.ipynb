{
 "cells": [
  {
   "cell_type": "code",
   "execution_count": 1,
   "metadata": {
    "collapsed": false
   },
   "outputs": [
    {
     "name": "stdout",
     "output_type": "stream",
     "text": [
      "{'Michael Phillips': {'Superman Returns': 3.5, 'The Night Listener': 4.0, 'Lady in the Water': 2.5, 'Snakes on a Plane': 3.0}, 'Lisa Rose': {'Superman Returns': 3.5, 'Just My Luck': 3.0, 'The Night Listener': 3.0, 'Lady in the Water': 2.5, 'Snakes on a Plane': 3.5, 'You, Me and Dupree': 2.5}, 'Jack Matthews': {'Superman Returns': 5.0, 'You, Me and Dupree': 3.5, 'The Night Listener': 3.0, 'Lady in the Water': 3.0, 'Snakes on a Plane': 4.0}, 'Mick LaSalle': {'Superman Returns': 3.0, 'You, Me and Dupree': 2.0, 'Just My Luck': 2.0, 'The Night Listener': 3.0, 'Snakes on a Plane': 4.0, 'Lady in the Water': 3.0}, 'Toby': {'Superman Returns': 4.0, 'Snakes on a Plane': 4.5, 'You, Me and Dupree': 1.0}, 'Gene Seymour': {'Superman Returns': 5.0, 'You, Me and Dupree': 3.5, 'Just My Luck': 1.5, 'The Night Listener': 3.0, 'Snakes on a Plane': 3.5, 'Lady in the Water': 3.0}, 'Claudia Puig': {'Superman Returns': 4.0, 'You, Me and Dupree': 2.5, 'The Night Listener': 4.5, 'Snakes on a Plane': 3.5, 'Just My Luck': 3.0}}\n"
     ]
    }
   ],
   "source": [
    "#first exercise to import file\n",
    "\n",
    "from recommendation import critics\n",
    "print(critics)"
   ]
  },
  {
   "cell_type": "code",
   "execution_count": null,
   "metadata": {
    "collapsed": true
   },
   "outputs": [],
   "source": []
  }
 ],
 "metadata": {
  "anaconda-cloud": {},
  "kernelspec": {
   "display_name": "Python [default]",
   "language": "python",
   "name": "python3"
  },
  "language_info": {
   "codemirror_mode": {
    "name": "ipython",
    "version": 3
   },
   "file_extension": ".py",
   "mimetype": "text/x-python",
   "name": "python",
   "nbconvert_exporter": "python",
   "pygments_lexer": "ipython3",
   "version": "3.5.2"
  }
 },
 "nbformat": 4,
 "nbformat_minor": 1
}
